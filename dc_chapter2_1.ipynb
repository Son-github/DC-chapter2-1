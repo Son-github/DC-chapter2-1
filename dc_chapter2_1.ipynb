{
  "nbformat": 4,
  "nbformat_minor": 0,
  "metadata": {
    "colab": {
      "provenance": [],
      "authorship_tag": "ABX9TyOa3cgfAoCaVBn5CTg4iJw6",
      "include_colab_link": true
    },
    "kernelspec": {
      "name": "python3",
      "display_name": "Python 3"
    },
    "language_info": {
      "name": "python"
    }
  },
  "cells": [
    {
      "cell_type": "markdown",
      "metadata": {
        "id": "view-in-github",
        "colab_type": "text"
      },
      "source": [
        "<a href=\"https://colab.research.google.com/github/Son-github/DC-chapter2-1/blob/main/dc_chapter2_1.ipynb\" target=\"_parent\"><img src=\"https://colab.research.google.com/assets/colab-badge.svg\" alt=\"Open In Colab\"/></a>"
      ]
    },
    {
      "cell_type": "code",
      "execution_count": null,
      "metadata": {
        "colab": {
          "base_uri": "https://localhost:8080/"
        },
        "id": "Yv7lccrvrx9-",
        "outputId": "1e45e321-0b2a-4ace-953c-4ec5911a2cae"
      },
      "outputs": [
        {
          "output_type": "stream",
          "name": "stdout",
          "text": [
            "{\"name\": \"혼자 공부하는 데이터 분석\"}\n"
          ]
        }
      ],
      "source": [
        "import json\n",
        "d = {\"name\": \"혼자 공부하는 데이터 분석\"}\n",
        "d_str = json.dumps(d, ensure_ascii=False) #파이썬 객체를 JSON 형식에 맞는 텍스트로 바꿀 때는 json.dumps() 함수를 사용. ensure_ascii 매개변수를 False로 지정한 이유는 기본적으로 json.dumps() 함수는 아스키문자 외의 다른 문자를 16진수로 출력하기 때문에 한글이 보이지 않아서 원래 저장된 문자를 그대로 출력하도록 하기 위해.\n",
        "print(d_str)"
      ]
    },
    {
      "cell_type": "code",
      "source": [
        "print(type(d_str))"
      ],
      "metadata": {
        "colab": {
          "base_uri": "https://localhost:8080/"
        },
        "id": "6ImB3rRzsYr_",
        "outputId": "1e81b753-f368-434a-8c01-0f9a1c289d05"
      },
      "execution_count": null,
      "outputs": [
        {
          "output_type": "stream",
          "name": "stdout",
          "text": [
            "<class 'str'>\n"
          ]
        }
      ]
    },
    {
      "cell_type": "code",
      "source": [
        "d2 = json.loads(d_str) #json 문자열을 파이썬 객체로 변환 가능\n",
        "print(d2['name'])"
      ],
      "metadata": {
        "colab": {
          "base_uri": "https://localhost:8080/"
        },
        "id": "pNOmkdhlsgVU",
        "outputId": "58d731b4-7974-453f-954f-9bba67375e2d"
      },
      "execution_count": null,
      "outputs": [
        {
          "output_type": "stream",
          "name": "stdout",
          "text": [
            "혼자 공부하는 데이터 분석\n"
          ]
        }
      ]
    },
    {
      "cell_type": "code",
      "source": [
        "print(type(d2))"
      ],
      "metadata": {
        "colab": {
          "base_uri": "https://localhost:8080/"
        },
        "id": "HYnvWGyAsme9",
        "outputId": "7a5d0017-c015-41e5-ce14-1acad0659777"
      },
      "execution_count": null,
      "outputs": [
        {
          "output_type": "stream",
          "name": "stdout",
          "text": [
            "<class 'dict'>\n"
          ]
        }
      ]
    },
    {
      "cell_type": "code",
      "source": [
        "d3 = json.loads('{\"name\": \"혼자 공부하는 데이터 분석\", \"author\": \"박해선\", \"year\": 2022}')\n",
        "print(d3['name'])\n",
        "print(d3['author'])\n",
        "print(d3['year'])"
      ],
      "metadata": {
        "colab": {
          "base_uri": "https://localhost:8080/"
        },
        "id": "DAZ8GWo1squU",
        "outputId": "e50bef3b-c5e7-41a7-d75b-ecbb0e7c70d0"
      },
      "execution_count": null,
      "outputs": [
        {
          "output_type": "stream",
          "name": "stdout",
          "text": [
            "혼자 공부하는 데이터 분석\n",
            "박해선\n",
            "2022\n"
          ]
        }
      ]
    },
    {
      "cell_type": "code",
      "source": [
        "d3 = json.loads('{\"name\": \"혼자 공부하는 데이터 분석\", \"author\": [\"박해선\",\"홍길동\"], \"year\": 2022}')\n",
        "print(d3['author'][1])"
      ],
      "metadata": {
        "colab": {
          "base_uri": "https://localhost:8080/"
        },
        "id": "U83issF8tIc9",
        "outputId": "8f1acc89-b7c3-46d6-81dc-b781534bc883"
      },
      "execution_count": null,
      "outputs": [
        {
          "output_type": "stream",
          "name": "stdout",
          "text": [
            "홍길동\n"
          ]
        }
      ]
    },
    {
      "cell_type": "code",
      "source": [
        "d4_str = \"\"\"\n",
        "[\n",
        "  {\"name\": \"혼자 공부하는 데이터 분석\", \"author\": \"박해선\", \"year\": 2022},\n",
        "  {\"name\": \"혼자 공부하는 머신러닝+딥러닝\", \"author\": \"박해선\", \"year\": 2020}\n",
        "]\n",
        "\"\"\"\n",
        "\n",
        "d4 = json.loads(d4_str)\n",
        "print(d4[0]['name'])"
      ],
      "metadata": {
        "colab": {
          "base_uri": "https://localhost:8080/"
        },
        "id": "TbYgdfOvteyH",
        "outputId": "00f4886d-e455-42e3-8227-b257fe4fb72c"
      },
      "execution_count": null,
      "outputs": [
        {
          "output_type": "stream",
          "name": "stdout",
          "text": [
            "혼자 공부하는 데이터 분석\n"
          ]
        }
      ]
    },
    {
      "cell_type": "code",
      "source": [
        "import pandas as pd\n",
        "pd.read_json(d4_str) #JSON 문자열을 읽어서 데이터프레임으로 변환."
      ],
      "metadata": {
        "colab": {
          "base_uri": "https://localhost:8080/",
          "height": 112
        },
        "id": "cs2v0eoEIf6w",
        "outputId": "8638c924-a7a2-4092-d4a9-c5ce8eb803cf"
      },
      "execution_count": null,
      "outputs": [
        {
          "output_type": "execute_result",
          "data": {
            "text/plain": [
              "               name author  year\n",
              "0    혼자 공부하는 데이터 분석    박해선  2022\n",
              "1  혼자 공부하는 머신러닝+딥러닝    박해선  2020"
            ],
            "text/html": [
              "\n",
              "  <div id=\"df-268a58d8-954c-44b5-b889-0298e7772fd2\">\n",
              "    <div class=\"colab-df-container\">\n",
              "      <div>\n",
              "<style scoped>\n",
              "    .dataframe tbody tr th:only-of-type {\n",
              "        vertical-align: middle;\n",
              "    }\n",
              "\n",
              "    .dataframe tbody tr th {\n",
              "        vertical-align: top;\n",
              "    }\n",
              "\n",
              "    .dataframe thead th {\n",
              "        text-align: right;\n",
              "    }\n",
              "</style>\n",
              "<table border=\"1\" class=\"dataframe\">\n",
              "  <thead>\n",
              "    <tr style=\"text-align: right;\">\n",
              "      <th></th>\n",
              "      <th>name</th>\n",
              "      <th>author</th>\n",
              "      <th>year</th>\n",
              "    </tr>\n",
              "  </thead>\n",
              "  <tbody>\n",
              "    <tr>\n",
              "      <th>0</th>\n",
              "      <td>혼자 공부하는 데이터 분석</td>\n",
              "      <td>박해선</td>\n",
              "      <td>2022</td>\n",
              "    </tr>\n",
              "    <tr>\n",
              "      <th>1</th>\n",
              "      <td>혼자 공부하는 머신러닝+딥러닝</td>\n",
              "      <td>박해선</td>\n",
              "      <td>2020</td>\n",
              "    </tr>\n",
              "  </tbody>\n",
              "</table>\n",
              "</div>\n",
              "      <button class=\"colab-df-convert\" onclick=\"convertToInteractive('df-268a58d8-954c-44b5-b889-0298e7772fd2')\"\n",
              "              title=\"Convert this dataframe to an interactive table.\"\n",
              "              style=\"display:none;\">\n",
              "        \n",
              "  <svg xmlns=\"http://www.w3.org/2000/svg\" height=\"24px\"viewBox=\"0 0 24 24\"\n",
              "       width=\"24px\">\n",
              "    <path d=\"M0 0h24v24H0V0z\" fill=\"none\"/>\n",
              "    <path d=\"M18.56 5.44l.94 2.06.94-2.06 2.06-.94-2.06-.94-.94-2.06-.94 2.06-2.06.94zm-11 1L8.5 8.5l.94-2.06 2.06-.94-2.06-.94L8.5 2.5l-.94 2.06-2.06.94zm10 10l.94 2.06.94-2.06 2.06-.94-2.06-.94-.94-2.06-.94 2.06-2.06.94z\"/><path d=\"M17.41 7.96l-1.37-1.37c-.4-.4-.92-.59-1.43-.59-.52 0-1.04.2-1.43.59L10.3 9.45l-7.72 7.72c-.78.78-.78 2.05 0 2.83L4 21.41c.39.39.9.59 1.41.59.51 0 1.02-.2 1.41-.59l7.78-7.78 2.81-2.81c.8-.78.8-2.07 0-2.86zM5.41 20L4 18.59l7.72-7.72 1.47 1.35L5.41 20z\"/>\n",
              "  </svg>\n",
              "      </button>\n",
              "      \n",
              "  <style>\n",
              "    .colab-df-container {\n",
              "      display:flex;\n",
              "      flex-wrap:wrap;\n",
              "      gap: 12px;\n",
              "    }\n",
              "\n",
              "    .colab-df-convert {\n",
              "      background-color: #E8F0FE;\n",
              "      border: none;\n",
              "      border-radius: 50%;\n",
              "      cursor: pointer;\n",
              "      display: none;\n",
              "      fill: #1967D2;\n",
              "      height: 32px;\n",
              "      padding: 0 0 0 0;\n",
              "      width: 32px;\n",
              "    }\n",
              "\n",
              "    .colab-df-convert:hover {\n",
              "      background-color: #E2EBFA;\n",
              "      box-shadow: 0px 1px 2px rgba(60, 64, 67, 0.3), 0px 1px 3px 1px rgba(60, 64, 67, 0.15);\n",
              "      fill: #174EA6;\n",
              "    }\n",
              "\n",
              "    [theme=dark] .colab-df-convert {\n",
              "      background-color: #3B4455;\n",
              "      fill: #D2E3FC;\n",
              "    }\n",
              "\n",
              "    [theme=dark] .colab-df-convert:hover {\n",
              "      background-color: #434B5C;\n",
              "      box-shadow: 0px 1px 3px 1px rgba(0, 0, 0, 0.15);\n",
              "      filter: drop-shadow(0px 1px 2px rgba(0, 0, 0, 0.3));\n",
              "      fill: #FFFFFF;\n",
              "    }\n",
              "  </style>\n",
              "\n",
              "      <script>\n",
              "        const buttonEl =\n",
              "          document.querySelector('#df-268a58d8-954c-44b5-b889-0298e7772fd2 button.colab-df-convert');\n",
              "        buttonEl.style.display =\n",
              "          google.colab.kernel.accessAllowed ? 'block' : 'none';\n",
              "\n",
              "        async function convertToInteractive(key) {\n",
              "          const element = document.querySelector('#df-268a58d8-954c-44b5-b889-0298e7772fd2');\n",
              "          const dataTable =\n",
              "            await google.colab.kernel.invokeFunction('convertToInteractive',\n",
              "                                                     [key], {});\n",
              "          if (!dataTable) return;\n",
              "\n",
              "          const docLinkHtml = 'Like what you see? Visit the ' +\n",
              "            '<a target=\"_blank\" href=https://colab.research.google.com/notebooks/data_table.ipynb>data table notebook</a>'\n",
              "            + ' to learn more about interactive tables.';\n",
              "          element.innerHTML = '';\n",
              "          dataTable['output_type'] = 'display_data';\n",
              "          await google.colab.output.renderOutput(dataTable, element);\n",
              "          const docLink = document.createElement('div');\n",
              "          docLink.innerHTML = docLinkHtml;\n",
              "          element.appendChild(docLink);\n",
              "        }\n",
              "      </script>\n",
              "    </div>\n",
              "  </div>\n",
              "  "
            ]
          },
          "metadata": {},
          "execution_count": 8
        }
      ]
    },
    {
      "cell_type": "code",
      "source": [
        "pd.DataFrame(d4) #DataFrame 클래스에 파이썬 리스트를 넣어줌."
      ],
      "metadata": {
        "colab": {
          "base_uri": "https://localhost:8080/",
          "height": 112
        },
        "id": "LJe7VjLfIk-f",
        "outputId": "63a21c79-330f-46d3-c3ee-18d9179dc439"
      },
      "execution_count": null,
      "outputs": [
        {
          "output_type": "execute_result",
          "data": {
            "text/plain": [
              "               name author  year\n",
              "0    혼자 공부하는 데이터 분석    박해선  2022\n",
              "1  혼자 공부하는 머신러닝+딥러닝    박해선  2020"
            ],
            "text/html": [
              "\n",
              "  <div id=\"df-d0ed6547-e95f-4fbd-9bfe-0e860aaac777\">\n",
              "    <div class=\"colab-df-container\">\n",
              "      <div>\n",
              "<style scoped>\n",
              "    .dataframe tbody tr th:only-of-type {\n",
              "        vertical-align: middle;\n",
              "    }\n",
              "\n",
              "    .dataframe tbody tr th {\n",
              "        vertical-align: top;\n",
              "    }\n",
              "\n",
              "    .dataframe thead th {\n",
              "        text-align: right;\n",
              "    }\n",
              "</style>\n",
              "<table border=\"1\" class=\"dataframe\">\n",
              "  <thead>\n",
              "    <tr style=\"text-align: right;\">\n",
              "      <th></th>\n",
              "      <th>name</th>\n",
              "      <th>author</th>\n",
              "      <th>year</th>\n",
              "    </tr>\n",
              "  </thead>\n",
              "  <tbody>\n",
              "    <tr>\n",
              "      <th>0</th>\n",
              "      <td>혼자 공부하는 데이터 분석</td>\n",
              "      <td>박해선</td>\n",
              "      <td>2022</td>\n",
              "    </tr>\n",
              "    <tr>\n",
              "      <th>1</th>\n",
              "      <td>혼자 공부하는 머신러닝+딥러닝</td>\n",
              "      <td>박해선</td>\n",
              "      <td>2020</td>\n",
              "    </tr>\n",
              "  </tbody>\n",
              "</table>\n",
              "</div>\n",
              "      <button class=\"colab-df-convert\" onclick=\"convertToInteractive('df-d0ed6547-e95f-4fbd-9bfe-0e860aaac777')\"\n",
              "              title=\"Convert this dataframe to an interactive table.\"\n",
              "              style=\"display:none;\">\n",
              "        \n",
              "  <svg xmlns=\"http://www.w3.org/2000/svg\" height=\"24px\"viewBox=\"0 0 24 24\"\n",
              "       width=\"24px\">\n",
              "    <path d=\"M0 0h24v24H0V0z\" fill=\"none\"/>\n",
              "    <path d=\"M18.56 5.44l.94 2.06.94-2.06 2.06-.94-2.06-.94-.94-2.06-.94 2.06-2.06.94zm-11 1L8.5 8.5l.94-2.06 2.06-.94-2.06-.94L8.5 2.5l-.94 2.06-2.06.94zm10 10l.94 2.06.94-2.06 2.06-.94-2.06-.94-.94-2.06-.94 2.06-2.06.94z\"/><path d=\"M17.41 7.96l-1.37-1.37c-.4-.4-.92-.59-1.43-.59-.52 0-1.04.2-1.43.59L10.3 9.45l-7.72 7.72c-.78.78-.78 2.05 0 2.83L4 21.41c.39.39.9.59 1.41.59.51 0 1.02-.2 1.41-.59l7.78-7.78 2.81-2.81c.8-.78.8-2.07 0-2.86zM5.41 20L4 18.59l7.72-7.72 1.47 1.35L5.41 20z\"/>\n",
              "  </svg>\n",
              "      </button>\n",
              "      \n",
              "  <style>\n",
              "    .colab-df-container {\n",
              "      display:flex;\n",
              "      flex-wrap:wrap;\n",
              "      gap: 12px;\n",
              "    }\n",
              "\n",
              "    .colab-df-convert {\n",
              "      background-color: #E8F0FE;\n",
              "      border: none;\n",
              "      border-radius: 50%;\n",
              "      cursor: pointer;\n",
              "      display: none;\n",
              "      fill: #1967D2;\n",
              "      height: 32px;\n",
              "      padding: 0 0 0 0;\n",
              "      width: 32px;\n",
              "    }\n",
              "\n",
              "    .colab-df-convert:hover {\n",
              "      background-color: #E2EBFA;\n",
              "      box-shadow: 0px 1px 2px rgba(60, 64, 67, 0.3), 0px 1px 3px 1px rgba(60, 64, 67, 0.15);\n",
              "      fill: #174EA6;\n",
              "    }\n",
              "\n",
              "    [theme=dark] .colab-df-convert {\n",
              "      background-color: #3B4455;\n",
              "      fill: #D2E3FC;\n",
              "    }\n",
              "\n",
              "    [theme=dark] .colab-df-convert:hover {\n",
              "      background-color: #434B5C;\n",
              "      box-shadow: 0px 1px 3px 1px rgba(0, 0, 0, 0.15);\n",
              "      filter: drop-shadow(0px 1px 2px rgba(0, 0, 0, 0.3));\n",
              "      fill: #FFFFFF;\n",
              "    }\n",
              "  </style>\n",
              "\n",
              "      <script>\n",
              "        const buttonEl =\n",
              "          document.querySelector('#df-d0ed6547-e95f-4fbd-9bfe-0e860aaac777 button.colab-df-convert');\n",
              "        buttonEl.style.display =\n",
              "          google.colab.kernel.accessAllowed ? 'block' : 'none';\n",
              "\n",
              "        async function convertToInteractive(key) {\n",
              "          const element = document.querySelector('#df-d0ed6547-e95f-4fbd-9bfe-0e860aaac777');\n",
              "          const dataTable =\n",
              "            await google.colab.kernel.invokeFunction('convertToInteractive',\n",
              "                                                     [key], {});\n",
              "          if (!dataTable) return;\n",
              "\n",
              "          const docLinkHtml = 'Like what you see? Visit the ' +\n",
              "            '<a target=\"_blank\" href=https://colab.research.google.com/notebooks/data_table.ipynb>data table notebook</a>'\n",
              "            + ' to learn more about interactive tables.';\n",
              "          element.innerHTML = '';\n",
              "          dataTable['output_type'] = 'display_data';\n",
              "          await google.colab.output.renderOutput(dataTable, element);\n",
              "          const docLink = document.createElement('div');\n",
              "          docLink.innerHTML = docLinkHtml;\n",
              "          element.appendChild(docLink);\n",
              "        }\n",
              "      </script>\n",
              "    </div>\n",
              "  </div>\n",
              "  "
            ]
          },
          "metadata": {},
          "execution_count": 9
        }
      ]
    },
    {
      "cell_type": "code",
      "source": [
        "x_str = \"\"\"\n",
        "<book>\n",
        "  <name>혼자 공부하는 데이터 분석</name>\n",
        "  <author>박해선</author>\n",
        "  <year>2022</year>\n",
        "</book>\n",
        "\"\"\""
      ],
      "metadata": {
        "id": "I2_kzNSHIpFS"
      },
      "execution_count": 2,
      "outputs": []
    },
    {
      "cell_type": "code",
      "source": [
        "import xml.etree.ElementTree as et\n",
        "book = et.fromstring(x_str) #x_str 문자열을 XML로 변환."
      ],
      "metadata": {
        "id": "FVx86o5wJFUH"
      },
      "execution_count": 3,
      "outputs": []
    },
    {
      "cell_type": "code",
      "source": [
        "print(type(book))"
      ],
      "metadata": {
        "colab": {
          "base_uri": "https://localhost:8080/"
        },
        "id": "cGY3dlLaJLKA",
        "outputId": "4358f9bf-2181-42de-f16b-09f004a84fff"
      },
      "execution_count": 4,
      "outputs": [
        {
          "output_type": "stream",
          "name": "stdout",
          "text": [
            "<class 'xml.etree.ElementTree.Element'>\n"
          ]
        }
      ]
    },
    {
      "cell_type": "code",
      "source": [
        "print(book.tag) #tag속성을 출력하면 엘리먼트 이름을 쉽게 확인"
      ],
      "metadata": {
        "colab": {
          "base_uri": "https://localhost:8080/"
        },
        "id": "vPAhlfVcJW-o",
        "outputId": "07262b1d-d968-4401-e496-87e9d1e1b7d9"
      },
      "execution_count": 5,
      "outputs": [
        {
          "output_type": "stream",
          "name": "stdout",
          "text": [
            "book\n"
          ]
        }
      ]
    },
    {
      "cell_type": "code",
      "source": [
        "print(book)"
      ],
      "metadata": {
        "colab": {
          "base_uri": "https://localhost:8080/"
        },
        "id": "eYK3rWxAYbBf",
        "outputId": "cd13d0f0-2b10-4612-b714-cebc95354bf9"
      },
      "execution_count": 6,
      "outputs": [
        {
          "output_type": "stream",
          "name": "stdout",
          "text": [
            "<Element 'book' at 0x7fd5f454ae00>\n"
          ]
        }
      ]
    },
    {
      "cell_type": "code",
      "source": [
        "book_childs = list(book)\n",
        "print(book_childs) #name, author, year 엘리멘트가 담겨있음."
      ],
      "metadata": {
        "colab": {
          "base_uri": "https://localhost:8080/"
        },
        "id": "LJHdtjdFJYNm",
        "outputId": "9329db53-2d0c-48a0-854f-6ebc391ccdce"
      },
      "execution_count": null,
      "outputs": [
        {
          "output_type": "stream",
          "name": "stdout",
          "text": [
            "[<Element 'name' at 0x7fe1e4708810>, <Element 'author' at 0x7fe1e47088b0>, <Element 'year' at 0x7fe1e4708950>]\n"
          ]
        }
      ]
    },
    {
      "cell_type": "code",
      "source": [
        "name, author, year = book_childs\n",
        "print(name.text)\n",
        "print(author.text)\n",
        "print(year.text)"
      ],
      "metadata": {
        "colab": {
          "base_uri": "https://localhost:8080/"
        },
        "id": "WFoNxaCvJcOM",
        "outputId": "4fed2969-1a4f-41d5-cba3-0079d3b56cb6"
      },
      "execution_count": null,
      "outputs": [
        {
          "output_type": "stream",
          "name": "stdout",
          "text": [
            "혼자 공부하는 데이터 분석\n",
            "박해선\n",
            "2022\n"
          ]
        }
      ]
    },
    {
      "cell_type": "code",
      "source": [
        "name = book.findtext('name') #findtext()함수를 사용하면 해당하는 자식 엘리먼트를 탐색하여 자동으로 텍스트 반환\n",
        "author = book.findtext('author')\n",
        "year = book.findtext('year')\n",
        "print(name)\n",
        "print(author)\n",
        "print(year)"
      ],
      "metadata": {
        "colab": {
          "base_uri": "https://localhost:8080/"
        },
        "id": "wdG41hV6Joim",
        "outputId": "a5cdd91e-9a2b-4a1e-bb1d-7319fab3ec80"
      },
      "execution_count": null,
      "outputs": [
        {
          "output_type": "stream",
          "name": "stdout",
          "text": [
            "혼자 공부하는 데이터 분석\n",
            "박해선\n",
            "2022\n"
          ]
        }
      ]
    },
    {
      "cell_type": "code",
      "source": [
        "x2_str = \"\"\"\n",
        "<books>\n",
        "  <book>\n",
        "    <name>혼자 공부하는 데이터 분석</name>\n",
        "    <author>박해선</author>\n",
        "    <year>2022</year>\n",
        "  </book>\n",
        "  <book>\n",
        "    <name>혼자 공부하는 머신러닝+딥러닝</name>\n",
        "    <author>박해선</author>\n",
        "    <year>2020</year>\n",
        "  </book>\n",
        "</books>\n",
        "\"\"\""
      ],
      "metadata": {
        "id": "6S8UcVEiJ2J3"
      },
      "execution_count": null,
      "outputs": []
    },
    {
      "cell_type": "code",
      "source": [
        "books = et.fromstring(x2_str)\n",
        "print(books.tag) #가장 상위에서 감싸고 있는 것 출력."
      ],
      "metadata": {
        "colab": {
          "base_uri": "https://localhost:8080/"
        },
        "id": "GobUPTw6KMUA",
        "outputId": "47c28b1a-acf3-42cd-e55e-dc9863063ce7"
      },
      "execution_count": null,
      "outputs": [
        {
          "output_type": "stream",
          "name": "stdout",
          "text": [
            "books\n"
          ]
        }
      ]
    },
    {
      "cell_type": "code",
      "source": [
        "for book in books.findall('book'): #findall() 메서드가 반환하는 자식 엘리먼트 <book>에서 'name', 'author', 'year'을 찾아 출력.\n",
        "  name = book.findtext('name')\n",
        "  author = book.findtext('author')\n",
        "  year = book.findtext('year')\n",
        "  print(name)\n",
        "  print(author)\n",
        "  print(year)\n",
        "  print()"
      ],
      "metadata": {
        "colab": {
          "base_uri": "https://localhost:8080/"
        },
        "id": "IHFKJxAJKQiY",
        "outputId": "9f4e343d-c152-4396-9a49-b87d8da34348"
      },
      "execution_count": null,
      "outputs": [
        {
          "output_type": "stream",
          "name": "stdout",
          "text": [
            "혼자 공부하는 데이터 분석\n",
            "박해선\n",
            "2022\n",
            "\n",
            "혼자 공부하는 머신러닝+딥러닝\n",
            "박해선\n",
            "2020\n",
            "\n"
          ]
        }
      ]
    },
    {
      "cell_type": "code",
      "source": [
        "pd.read_xml(x2_str) #read_xml() 함수를 사용하면 XML을 데이터프레임으로 변환."
      ],
      "metadata": {
        "colab": {
          "base_uri": "https://localhost:8080/",
          "height": 112
        },
        "id": "czmrvYy3KfFQ",
        "outputId": "7d4b78fc-69c9-4cc1-8917-53a47fbd058d"
      },
      "execution_count": null,
      "outputs": [
        {
          "output_type": "execute_result",
          "data": {
            "text/plain": [
              "               name author  year\n",
              "0    혼자 공부하는 데이터 분석    박해선  2022\n",
              "1  혼자 공부하는 머신러닝+딥러닝    박해선  2020"
            ],
            "text/html": [
              "\n",
              "  <div id=\"df-9eed84b8-078f-473b-83af-293d7799b665\">\n",
              "    <div class=\"colab-df-container\">\n",
              "      <div>\n",
              "<style scoped>\n",
              "    .dataframe tbody tr th:only-of-type {\n",
              "        vertical-align: middle;\n",
              "    }\n",
              "\n",
              "    .dataframe tbody tr th {\n",
              "        vertical-align: top;\n",
              "    }\n",
              "\n",
              "    .dataframe thead th {\n",
              "        text-align: right;\n",
              "    }\n",
              "</style>\n",
              "<table border=\"1\" class=\"dataframe\">\n",
              "  <thead>\n",
              "    <tr style=\"text-align: right;\">\n",
              "      <th></th>\n",
              "      <th>name</th>\n",
              "      <th>author</th>\n",
              "      <th>year</th>\n",
              "    </tr>\n",
              "  </thead>\n",
              "  <tbody>\n",
              "    <tr>\n",
              "      <th>0</th>\n",
              "      <td>혼자 공부하는 데이터 분석</td>\n",
              "      <td>박해선</td>\n",
              "      <td>2022</td>\n",
              "    </tr>\n",
              "    <tr>\n",
              "      <th>1</th>\n",
              "      <td>혼자 공부하는 머신러닝+딥러닝</td>\n",
              "      <td>박해선</td>\n",
              "      <td>2020</td>\n",
              "    </tr>\n",
              "  </tbody>\n",
              "</table>\n",
              "</div>\n",
              "      <button class=\"colab-df-convert\" onclick=\"convertToInteractive('df-9eed84b8-078f-473b-83af-293d7799b665')\"\n",
              "              title=\"Convert this dataframe to an interactive table.\"\n",
              "              style=\"display:none;\">\n",
              "        \n",
              "  <svg xmlns=\"http://www.w3.org/2000/svg\" height=\"24px\"viewBox=\"0 0 24 24\"\n",
              "       width=\"24px\">\n",
              "    <path d=\"M0 0h24v24H0V0z\" fill=\"none\"/>\n",
              "    <path d=\"M18.56 5.44l.94 2.06.94-2.06 2.06-.94-2.06-.94-.94-2.06-.94 2.06-2.06.94zm-11 1L8.5 8.5l.94-2.06 2.06-.94-2.06-.94L8.5 2.5l-.94 2.06-2.06.94zm10 10l.94 2.06.94-2.06 2.06-.94-2.06-.94-.94-2.06-.94 2.06-2.06.94z\"/><path d=\"M17.41 7.96l-1.37-1.37c-.4-.4-.92-.59-1.43-.59-.52 0-1.04.2-1.43.59L10.3 9.45l-7.72 7.72c-.78.78-.78 2.05 0 2.83L4 21.41c.39.39.9.59 1.41.59.51 0 1.02-.2 1.41-.59l7.78-7.78 2.81-2.81c.8-.78.8-2.07 0-2.86zM5.41 20L4 18.59l7.72-7.72 1.47 1.35L5.41 20z\"/>\n",
              "  </svg>\n",
              "      </button>\n",
              "      \n",
              "  <style>\n",
              "    .colab-df-container {\n",
              "      display:flex;\n",
              "      flex-wrap:wrap;\n",
              "      gap: 12px;\n",
              "    }\n",
              "\n",
              "    .colab-df-convert {\n",
              "      background-color: #E8F0FE;\n",
              "      border: none;\n",
              "      border-radius: 50%;\n",
              "      cursor: pointer;\n",
              "      display: none;\n",
              "      fill: #1967D2;\n",
              "      height: 32px;\n",
              "      padding: 0 0 0 0;\n",
              "      width: 32px;\n",
              "    }\n",
              "\n",
              "    .colab-df-convert:hover {\n",
              "      background-color: #E2EBFA;\n",
              "      box-shadow: 0px 1px 2px rgba(60, 64, 67, 0.3), 0px 1px 3px 1px rgba(60, 64, 67, 0.15);\n",
              "      fill: #174EA6;\n",
              "    }\n",
              "\n",
              "    [theme=dark] .colab-df-convert {\n",
              "      background-color: #3B4455;\n",
              "      fill: #D2E3FC;\n",
              "    }\n",
              "\n",
              "    [theme=dark] .colab-df-convert:hover {\n",
              "      background-color: #434B5C;\n",
              "      box-shadow: 0px 1px 3px 1px rgba(0, 0, 0, 0.15);\n",
              "      filter: drop-shadow(0px 1px 2px rgba(0, 0, 0, 0.3));\n",
              "      fill: #FFFFFF;\n",
              "    }\n",
              "  </style>\n",
              "\n",
              "      <script>\n",
              "        const buttonEl =\n",
              "          document.querySelector('#df-9eed84b8-078f-473b-83af-293d7799b665 button.colab-df-convert');\n",
              "        buttonEl.style.display =\n",
              "          google.colab.kernel.accessAllowed ? 'block' : 'none';\n",
              "\n",
              "        async function convertToInteractive(key) {\n",
              "          const element = document.querySelector('#df-9eed84b8-078f-473b-83af-293d7799b665');\n",
              "          const dataTable =\n",
              "            await google.colab.kernel.invokeFunction('convertToInteractive',\n",
              "                                                     [key], {});\n",
              "          if (!dataTable) return;\n",
              "\n",
              "          const docLinkHtml = 'Like what you see? Visit the ' +\n",
              "            '<a target=\"_blank\" href=https://colab.research.google.com/notebooks/data_table.ipynb>data table notebook</a>'\n",
              "            + ' to learn more about interactive tables.';\n",
              "          element.innerHTML = '';\n",
              "          dataTable['output_type'] = 'display_data';\n",
              "          await google.colab.output.renderOutput(dataTable, element);\n",
              "          const docLink = document.createElement('div');\n",
              "          docLink.innerHTML = docLinkHtml;\n",
              "          element.appendChild(docLink);\n",
              "        }\n",
              "      </script>\n",
              "    </div>\n",
              "  </div>\n",
              "  "
            ]
          },
          "metadata": {},
          "execution_count": 21
        }
      ]
    },
    {
      "cell_type": "markdown",
      "source": [
        "호출 URL: https://data4library.kr/api/loanItemSrch?format=json&startDt=2021-04-01&endDT=2021-04-30&age=20&authKey=0601ce6b1485f1b2f2dcfdc9780f4a0cd47eb1013d51dcfdf33e34724b0fe7ee"
      ],
      "metadata": {
        "id": "GHZnh1ZsMEKC"
      }
    },
    {
      "cell_type": "code",
      "source": [
        "import requests\n",
        "url = \"http://data4library.kr/api/loanItemSrch?format=json&authKey=[발급받은인증키]&startDt=2021-04-01&endDt=2021-04-30&gender=1&age=20&region=11;31&addCode=0&kdc=6&pageNo=1&pageSize=10\"\n",
        "r = requests.get(url)\n",
        "data = r.json() #웹 서버로부터 받은 JSON 문자열을 파이썬 객체로 변환하여 반환\n",
        "data #맨 처음 'response'키가 하나의 딕셔너리를 값으로 가지고 있음. 이 딕셔너리의 'docs'키에 해당하는 값은 리스트"
      ],
      "metadata": {
        "id": "W6uiAT4kMM6N",
        "colab": {
          "base_uri": "https://localhost:8080/"
        },
        "outputId": "b5655eaf-4620-4bdb-fa7a-7ccbe942b3bf"
      },
      "execution_count": 11,
      "outputs": [
        {
          "output_type": "execute_result",
          "data": {
            "text/plain": [
              "{'response': {'request': {'startDt': '2021-04-01',\n",
              "   'endDt': '2021-04-30',\n",
              "   'gender': '1',\n",
              "   'age': '20',\n",
              "   'addCode': '0',\n",
              "   'kdc': '6',\n",
              "   'region': '11;31',\n",
              "   'pageNo': 1,\n",
              "   'pageSize': 10},\n",
              "  'resultNum': 10,\n",
              "  'numFound': 5000,\n",
              "  'docs': [{'doc': {'no': 1,\n",
              "     'ranking': '1',\n",
              "     'bookname': '방구석 미술관 :가볍고 편하게 시작하는 유쾌한 교양 미술 ',\n",
              "     'authors': '조원재 지음',\n",
              "     'publisher': '백도씨',\n",
              "     'publication_year': '2018',\n",
              "     'isbn13': '9788968331862',\n",
              "     'addition_symbol': '03600',\n",
              "     'vol': '',\n",
              "     'class_no': '650.4',\n",
              "     'class_nm': '예술 > 회화, 도화 > 회화, 도화',\n",
              "     'loan_count': '64',\n",
              "     'bookImageURL': 'https://bookthumb-phinf.pstatic.net/cover/138/339/13833956.jpg?type=m1&udate=20180803',\n",
              "     'bookDtlUrl': 'https://data4library.kr/bookV?seq=3858776'}},\n",
              "   {'doc': {'no': 2,\n",
              "     'ranking': '2',\n",
              "     'bookname': '김이나의 작사법 :우리의 감정을 사로잡는 일상의 언어들 ',\n",
              "     'authors': '지은이: 김이나',\n",
              "     'publisher': '문학동네',\n",
              "     'publication_year': '2015',\n",
              "     'isbn13': '9788954635608',\n",
              "     'addition_symbol': '03810',\n",
              "     'vol': '',\n",
              "     'class_no': '673.511',\n",
              "     'class_nm': '예술 > 음악 > 성악',\n",
              "     'loan_count': '35',\n",
              "     'bookImageURL': 'http://image.aladin.co.kr/product/5482/88/cover/8954635601_1.jpg',\n",
              "     'bookDtlUrl': 'https://data4library.kr/bookV?seq=2619164'}},\n",
              "   {'doc': {'no': 3,\n",
              "     'ranking': '3',\n",
              "     'bookname': '예술하는 습관 :위대한 창조의 순간을 만든 구체적 하루의 기록 ',\n",
              "     'authors': '메이슨 커리 지음 ;이미정 옮김',\n",
              "     'publisher': '웅진씽크빅',\n",
              "     'publication_year': '2020',\n",
              "     'isbn13': '9788901239156',\n",
              "     'addition_symbol': '03600',\n",
              "     'vol': '',\n",
              "     'class_no': '600.99',\n",
              "     'class_nm': '예술 > 예술 > 예술',\n",
              "     'loan_count': '29',\n",
              "     'bookImageURL': 'https://image.aladin.co.kr/product/22507/56/cover/8901239159_1.jpg',\n",
              "     'bookDtlUrl': 'https://data4library.kr/bookV?seq=5576495'}},\n",
              "   {'doc': {'no': 4,\n",
              "     'ranking': '3',\n",
              "     'bookname': '방구석 미술관',\n",
              "     'authors': '조원재 지음',\n",
              "     'publisher': '백도씨',\n",
              "     'publication_year': '2020',\n",
              "     'isbn13': '9788968332845',\n",
              "     'addition_symbol': '03600',\n",
              "     'vol': '2',\n",
              "     'class_no': '650.4',\n",
              "     'class_nm': '예술 > 회화, 도화 > 회화, 도화',\n",
              "     'loan_count': '29',\n",
              "     'bookImageURL': 'https://image.aladin.co.kr/product/25566/91/cover/8968332843_2.jpg',\n",
              "     'bookDtlUrl': 'https://data4library.kr/bookV?seq=5799196'}},\n",
              "   {'doc': {'no': 5,\n",
              "     'ranking': '5',\n",
              "     'bookname': '뉴턴의 아틀리에 :과학과 예술, 두 시선의 다양한 관계 맺기 ',\n",
              "     'authors': '지은이: 김상욱,유지원',\n",
              "     'publisher': '민음사',\n",
              "     'publication_year': '2020',\n",
              "     'isbn13': '9788937491214',\n",
              "     'addition_symbol': '03600',\n",
              "     'vol': '',\n",
              "     'class_no': '600.04',\n",
              "     'class_nm': '예술 > 예술 > 예술',\n",
              "     'loan_count': '21',\n",
              "     'bookImageURL': 'https://image.aladin.co.kr/product/23750/83/cover/8937491214_1.jpg',\n",
              "     'bookDtlUrl': 'https://data4library.kr/bookV?seq=5651714'}},\n",
              "   {'doc': {'no': 6,\n",
              "     'ranking': '6',\n",
              "     'bookname': '겁내지 않고 그림 그리는 법 ',\n",
              "     'authors': '저자: 이연',\n",
              "     'publisher': '미술문화',\n",
              "     'publication_year': '2021',\n",
              "     'isbn13': '9791185954707',\n",
              "     'addition_symbol': '03600',\n",
              "     'vol': '',\n",
              "     'class_no': '650.4',\n",
              "     'class_nm': '예술 > 회화, 도화 > 회화, 도화',\n",
              "     'loan_count': '19',\n",
              "     'bookImageURL': 'https://image.aladin.co.kr/product/26722/32/cover/k282730189_2.jpg',\n",
              "     'bookDtlUrl': 'https://data4library.kr/bookV?seq=5945219'}},\n",
              "   {'doc': {'no': 7,\n",
              "     'ranking': '7',\n",
              "     'bookname': '알폰스 무하, 새로운 스타일의 탄생 =현대 일러스트 미술의 선구자 무하의 삶과 예술 /Alphonse Mucha ',\n",
              "     'authors': '장우진 지음',\n",
              "     'publisher': 'RHK(알에이치코리아)',\n",
              "     'publication_year': '2021',\n",
              "     'isbn13': '9788925589107',\n",
              "     'addition_symbol': '03600',\n",
              "     'vol': '',\n",
              "     'class_no': '658.099',\n",
              "     'class_nm': '예술 > 회화, 도화 > 그래픽디자인, 도안, 포스터',\n",
              "     'loan_count': '18',\n",
              "     'bookImageURL': 'https://image.aladin.co.kr/product/26330/64/cover/8925589109_1.jpg',\n",
              "     'bookDtlUrl': 'https://data4library.kr/bookV?seq=5859131'}},\n",
              "   {'doc': {'no': 8,\n",
              "     'ranking': '7',\n",
              "     'bookname': '우아하고 호쾌한 여자 축구 :김혼비 에세이 ',\n",
              "     'authors': '지은이: 김혼비',\n",
              "     'publisher': '민음사',\n",
              "     'publication_year': '2018',\n",
              "     'isbn13': '9788937437571',\n",
              "     'addition_symbol': '03810',\n",
              "     'vol': '',\n",
              "     'class_no': '695.404',\n",
              "     'class_nm': '예술 > 오락, 운동 > 구기',\n",
              "     'loan_count': '18',\n",
              "     'bookImageURL': 'http://image.aladin.co.kr/product/14970/22/cover/8937437570_1.jpg',\n",
              "     'bookDtlUrl': 'https://data4library.kr/bookV?seq=3766967'}},\n",
              "   {'doc': {'no': 9,\n",
              "     'ranking': '9',\n",
              "     'bookname': '다른 방식으로 보기 ',\n",
              "     'authors': '존 버거 [지음] ;최민 옮김',\n",
              "     'publisher': '열화당',\n",
              "     'publication_year': '2012',\n",
              "     'isbn13': '9788930104272',\n",
              "     'addition_symbol': '03840',\n",
              "     'vol': '',\n",
              "     'class_no': '604',\n",
              "     'class_nm': '예술 > 예술 > 미술의 주제',\n",
              "     'loan_count': '17',\n",
              "     'bookImageURL': 'http://image.aladin.co.kr/product/1875/91/cover/8930104274_1.jpg',\n",
              "     'bookDtlUrl': 'https://data4library.kr/bookV?seq=1864587'}},\n",
              "   {'doc': {'no': 10,\n",
              "     'ranking': '9',\n",
              "     'bookname': \"90일 밤의 미술관 =하루 1작품 내 방에서 즐기는 유럽 미술관 투어 /90 nights' museum \",\n",
              "     'authors': '이용규,이진희 지음',\n",
              "     'publisher': '동양북스',\n",
              "     'publication_year': '2020',\n",
              "     'isbn13': '9791157686629',\n",
              "     'addition_symbol': '03600',\n",
              "     'vol': '',\n",
              "     'class_no': '606.92',\n",
              "     'class_nm': '예술 > 예술 > 미술 분야의 학회, 단체, 기관, 회의',\n",
              "     'loan_count': '17',\n",
              "     'bookImageURL': 'https://image.aladin.co.kr/product/25468/53/cover/k922633823_1.jpg',\n",
              "     'bookDtlUrl': 'https://data4library.kr/bookV?seq=5791235'}}]}}"
            ]
          },
          "metadata": {},
          "execution_count": 11
        }
      ]
    },
    {
      "cell_type": "code",
      "source": [
        "books = []\n",
        "books = [d['doc'] for d in data['response']['docs']] #'docs'안에 있는 'doc'들을 가져와 리스트로 만듬.\n",
        "books"
      ],
      "metadata": {
        "id": "86lwJ4xvMYfn",
        "colab": {
          "base_uri": "https://localhost:8080/"
        },
        "outputId": "679e9f4e-b327-455e-b2f5-aeb29a7960d5"
      },
      "execution_count": 12,
      "outputs": [
        {
          "output_type": "execute_result",
          "data": {
            "text/plain": [
              "[{'no': 1,\n",
              "  'ranking': '1',\n",
              "  'bookname': '방구석 미술관 :가볍고 편하게 시작하는 유쾌한 교양 미술 ',\n",
              "  'authors': '조원재 지음',\n",
              "  'publisher': '백도씨',\n",
              "  'publication_year': '2018',\n",
              "  'isbn13': '9788968331862',\n",
              "  'addition_symbol': '03600',\n",
              "  'vol': '',\n",
              "  'class_no': '650.4',\n",
              "  'class_nm': '예술 > 회화, 도화 > 회화, 도화',\n",
              "  'loan_count': '64',\n",
              "  'bookImageURL': 'https://bookthumb-phinf.pstatic.net/cover/138/339/13833956.jpg?type=m1&udate=20180803',\n",
              "  'bookDtlUrl': 'https://data4library.kr/bookV?seq=3858776'},\n",
              " {'no': 2,\n",
              "  'ranking': '2',\n",
              "  'bookname': '김이나의 작사법 :우리의 감정을 사로잡는 일상의 언어들 ',\n",
              "  'authors': '지은이: 김이나',\n",
              "  'publisher': '문학동네',\n",
              "  'publication_year': '2015',\n",
              "  'isbn13': '9788954635608',\n",
              "  'addition_symbol': '03810',\n",
              "  'vol': '',\n",
              "  'class_no': '673.511',\n",
              "  'class_nm': '예술 > 음악 > 성악',\n",
              "  'loan_count': '35',\n",
              "  'bookImageURL': 'http://image.aladin.co.kr/product/5482/88/cover/8954635601_1.jpg',\n",
              "  'bookDtlUrl': 'https://data4library.kr/bookV?seq=2619164'},\n",
              " {'no': 3,\n",
              "  'ranking': '3',\n",
              "  'bookname': '예술하는 습관 :위대한 창조의 순간을 만든 구체적 하루의 기록 ',\n",
              "  'authors': '메이슨 커리 지음 ;이미정 옮김',\n",
              "  'publisher': '웅진씽크빅',\n",
              "  'publication_year': '2020',\n",
              "  'isbn13': '9788901239156',\n",
              "  'addition_symbol': '03600',\n",
              "  'vol': '',\n",
              "  'class_no': '600.99',\n",
              "  'class_nm': '예술 > 예술 > 예술',\n",
              "  'loan_count': '29',\n",
              "  'bookImageURL': 'https://image.aladin.co.kr/product/22507/56/cover/8901239159_1.jpg',\n",
              "  'bookDtlUrl': 'https://data4library.kr/bookV?seq=5576495'},\n",
              " {'no': 4,\n",
              "  'ranking': '3',\n",
              "  'bookname': '방구석 미술관',\n",
              "  'authors': '조원재 지음',\n",
              "  'publisher': '백도씨',\n",
              "  'publication_year': '2020',\n",
              "  'isbn13': '9788968332845',\n",
              "  'addition_symbol': '03600',\n",
              "  'vol': '2',\n",
              "  'class_no': '650.4',\n",
              "  'class_nm': '예술 > 회화, 도화 > 회화, 도화',\n",
              "  'loan_count': '29',\n",
              "  'bookImageURL': 'https://image.aladin.co.kr/product/25566/91/cover/8968332843_2.jpg',\n",
              "  'bookDtlUrl': 'https://data4library.kr/bookV?seq=5799196'},\n",
              " {'no': 5,\n",
              "  'ranking': '5',\n",
              "  'bookname': '뉴턴의 아틀리에 :과학과 예술, 두 시선의 다양한 관계 맺기 ',\n",
              "  'authors': '지은이: 김상욱,유지원',\n",
              "  'publisher': '민음사',\n",
              "  'publication_year': '2020',\n",
              "  'isbn13': '9788937491214',\n",
              "  'addition_symbol': '03600',\n",
              "  'vol': '',\n",
              "  'class_no': '600.04',\n",
              "  'class_nm': '예술 > 예술 > 예술',\n",
              "  'loan_count': '21',\n",
              "  'bookImageURL': 'https://image.aladin.co.kr/product/23750/83/cover/8937491214_1.jpg',\n",
              "  'bookDtlUrl': 'https://data4library.kr/bookV?seq=5651714'},\n",
              " {'no': 6,\n",
              "  'ranking': '6',\n",
              "  'bookname': '겁내지 않고 그림 그리는 법 ',\n",
              "  'authors': '저자: 이연',\n",
              "  'publisher': '미술문화',\n",
              "  'publication_year': '2021',\n",
              "  'isbn13': '9791185954707',\n",
              "  'addition_symbol': '03600',\n",
              "  'vol': '',\n",
              "  'class_no': '650.4',\n",
              "  'class_nm': '예술 > 회화, 도화 > 회화, 도화',\n",
              "  'loan_count': '19',\n",
              "  'bookImageURL': 'https://image.aladin.co.kr/product/26722/32/cover/k282730189_2.jpg',\n",
              "  'bookDtlUrl': 'https://data4library.kr/bookV?seq=5945219'},\n",
              " {'no': 7,\n",
              "  'ranking': '7',\n",
              "  'bookname': '알폰스 무하, 새로운 스타일의 탄생 =현대 일러스트 미술의 선구자 무하의 삶과 예술 /Alphonse Mucha ',\n",
              "  'authors': '장우진 지음',\n",
              "  'publisher': 'RHK(알에이치코리아)',\n",
              "  'publication_year': '2021',\n",
              "  'isbn13': '9788925589107',\n",
              "  'addition_symbol': '03600',\n",
              "  'vol': '',\n",
              "  'class_no': '658.099',\n",
              "  'class_nm': '예술 > 회화, 도화 > 그래픽디자인, 도안, 포스터',\n",
              "  'loan_count': '18',\n",
              "  'bookImageURL': 'https://image.aladin.co.kr/product/26330/64/cover/8925589109_1.jpg',\n",
              "  'bookDtlUrl': 'https://data4library.kr/bookV?seq=5859131'},\n",
              " {'no': 8,\n",
              "  'ranking': '7',\n",
              "  'bookname': '우아하고 호쾌한 여자 축구 :김혼비 에세이 ',\n",
              "  'authors': '지은이: 김혼비',\n",
              "  'publisher': '민음사',\n",
              "  'publication_year': '2018',\n",
              "  'isbn13': '9788937437571',\n",
              "  'addition_symbol': '03810',\n",
              "  'vol': '',\n",
              "  'class_no': '695.404',\n",
              "  'class_nm': '예술 > 오락, 운동 > 구기',\n",
              "  'loan_count': '18',\n",
              "  'bookImageURL': 'http://image.aladin.co.kr/product/14970/22/cover/8937437570_1.jpg',\n",
              "  'bookDtlUrl': 'https://data4library.kr/bookV?seq=3766967'},\n",
              " {'no': 9,\n",
              "  'ranking': '9',\n",
              "  'bookname': '다른 방식으로 보기 ',\n",
              "  'authors': '존 버거 [지음] ;최민 옮김',\n",
              "  'publisher': '열화당',\n",
              "  'publication_year': '2012',\n",
              "  'isbn13': '9788930104272',\n",
              "  'addition_symbol': '03840',\n",
              "  'vol': '',\n",
              "  'class_no': '604',\n",
              "  'class_nm': '예술 > 예술 > 미술의 주제',\n",
              "  'loan_count': '17',\n",
              "  'bookImageURL': 'http://image.aladin.co.kr/product/1875/91/cover/8930104274_1.jpg',\n",
              "  'bookDtlUrl': 'https://data4library.kr/bookV?seq=1864587'},\n",
              " {'no': 10,\n",
              "  'ranking': '9',\n",
              "  'bookname': \"90일 밤의 미술관 =하루 1작품 내 방에서 즐기는 유럽 미술관 투어 /90 nights' museum \",\n",
              "  'authors': '이용규,이진희 지음',\n",
              "  'publisher': '동양북스',\n",
              "  'publication_year': '2020',\n",
              "  'isbn13': '9791157686629',\n",
              "  'addition_symbol': '03600',\n",
              "  'vol': '',\n",
              "  'class_no': '606.92',\n",
              "  'class_nm': '예술 > 예술 > 미술 분야의 학회, 단체, 기관, 회의',\n",
              "  'loan_count': '17',\n",
              "  'bookImageURL': 'https://image.aladin.co.kr/product/25468/53/cover/k922633823_1.jpg',\n",
              "  'bookDtlUrl': 'https://data4library.kr/bookV?seq=5791235'}]"
            ]
          },
          "metadata": {},
          "execution_count": 12
        }
      ]
    },
    {
      "cell_type": "code",
      "source": [
        "import pandas as pd\n",
        "books_df = pd.DataFrame(books)\n",
        "books_df"
      ],
      "metadata": {
        "id": "5Fnn1rL9Mp_s",
        "colab": {
          "base_uri": "https://localhost:8080/",
          "height": 1000
        },
        "outputId": "87a1f354-309f-4acb-9760-f7a46d00674d"
      },
      "execution_count": 14,
      "outputs": [
        {
          "output_type": "execute_result",
          "data": {
            "text/plain": [
              "   no ranking                                           bookname  \\\n",
              "0   1       1                   방구석 미술관 :가볍고 편하게 시작하는 유쾌한 교양 미술    \n",
              "1   2       2                    김이나의 작사법 :우리의 감정을 사로잡는 일상의 언어들    \n",
              "2   3       3                예술하는 습관 :위대한 창조의 순간을 만든 구체적 하루의 기록    \n",
              "3   4       3                                            방구석 미술관   \n",
              "4   5       5                 뉴턴의 아틀리에 :과학과 예술, 두 시선의 다양한 관계 맺기    \n",
              "5   6       6                                   겁내지 않고 그림 그리는 법    \n",
              "6   7       7  알폰스 무하, 새로운 스타일의 탄생 =현대 일러스트 미술의 선구자 무하의 삶과 예술...   \n",
              "7   8       7                           우아하고 호쾌한 여자 축구 :김혼비 에세이    \n",
              "8   9       9                                        다른 방식으로 보기    \n",
              "9  10       9  90일 밤의 미술관 =하루 1작품 내 방에서 즐기는 유럽 미술관 투어 /90 nig...   \n",
              "\n",
              "             authors     publisher publication_year         isbn13  \\\n",
              "0             조원재 지음           백도씨             2018  9788968331862   \n",
              "1           지은이: 김이나          문학동네             2015  9788954635608   \n",
              "2  메이슨 커리 지음 ;이미정 옮김         웅진씽크빅             2020  9788901239156   \n",
              "3             조원재 지음           백도씨             2020  9788968332845   \n",
              "4       지은이: 김상욱,유지원           민음사             2020  9788937491214   \n",
              "5             저자: 이연          미술문화             2021  9791185954707   \n",
              "6             장우진 지음  RHK(알에이치코리아)             2021  9788925589107   \n",
              "7           지은이: 김혼비           민음사             2018  9788937437571   \n",
              "8   존 버거 [지음] ;최민 옮김           열화당             2012  9788930104272   \n",
              "9         이용규,이진희 지음          동양북스             2020  9791157686629   \n",
              "\n",
              "  addition_symbol vol class_no                         class_nm loan_count  \\\n",
              "0           03600        650.4             예술 > 회화, 도화 > 회화, 도화         64   \n",
              "1           03810      673.511                     예술 > 음악 > 성악         35   \n",
              "2           03600       600.99                     예술 > 예술 > 예술         29   \n",
              "3           03600   2    650.4             예술 > 회화, 도화 > 회화, 도화         29   \n",
              "4           03600       600.04                     예술 > 예술 > 예술         21   \n",
              "5           03600        650.4             예술 > 회화, 도화 > 회화, 도화         19   \n",
              "6           03600      658.099    예술 > 회화, 도화 > 그래픽디자인, 도안, 포스터         18   \n",
              "7           03810      695.404                 예술 > 오락, 운동 > 구기         18   \n",
              "8           03840          604                 예술 > 예술 > 미술의 주제         17   \n",
              "9           03600       606.92  예술 > 예술 > 미술 분야의 학회, 단체, 기관, 회의         17   \n",
              "\n",
              "                                        bookImageURL  \\\n",
              "0  https://bookthumb-phinf.pstatic.net/cover/138/...   \n",
              "1  http://image.aladin.co.kr/product/5482/88/cove...   \n",
              "2  https://image.aladin.co.kr/product/22507/56/co...   \n",
              "3  https://image.aladin.co.kr/product/25566/91/co...   \n",
              "4  https://image.aladin.co.kr/product/23750/83/co...   \n",
              "5  https://image.aladin.co.kr/product/26722/32/co...   \n",
              "6  https://image.aladin.co.kr/product/26330/64/co...   \n",
              "7  http://image.aladin.co.kr/product/14970/22/cov...   \n",
              "8  http://image.aladin.co.kr/product/1875/91/cove...   \n",
              "9  https://image.aladin.co.kr/product/25468/53/co...   \n",
              "\n",
              "                                  bookDtlUrl  \n",
              "0  https://data4library.kr/bookV?seq=3858776  \n",
              "1  https://data4library.kr/bookV?seq=2619164  \n",
              "2  https://data4library.kr/bookV?seq=5576495  \n",
              "3  https://data4library.kr/bookV?seq=5799196  \n",
              "4  https://data4library.kr/bookV?seq=5651714  \n",
              "5  https://data4library.kr/bookV?seq=5945219  \n",
              "6  https://data4library.kr/bookV?seq=5859131  \n",
              "7  https://data4library.kr/bookV?seq=3766967  \n",
              "8  https://data4library.kr/bookV?seq=1864587  \n",
              "9  https://data4library.kr/bookV?seq=5791235  "
            ],
            "text/html": [
              "\n",
              "  <div id=\"df-ec07de4c-b249-4f4f-9eba-bf1a422a1e0e\">\n",
              "    <div class=\"colab-df-container\">\n",
              "      <div>\n",
              "<style scoped>\n",
              "    .dataframe tbody tr th:only-of-type {\n",
              "        vertical-align: middle;\n",
              "    }\n",
              "\n",
              "    .dataframe tbody tr th {\n",
              "        vertical-align: top;\n",
              "    }\n",
              "\n",
              "    .dataframe thead th {\n",
              "        text-align: right;\n",
              "    }\n",
              "</style>\n",
              "<table border=\"1\" class=\"dataframe\">\n",
              "  <thead>\n",
              "    <tr style=\"text-align: right;\">\n",
              "      <th></th>\n",
              "      <th>no</th>\n",
              "      <th>ranking</th>\n",
              "      <th>bookname</th>\n",
              "      <th>authors</th>\n",
              "      <th>publisher</th>\n",
              "      <th>publication_year</th>\n",
              "      <th>isbn13</th>\n",
              "      <th>addition_symbol</th>\n",
              "      <th>vol</th>\n",
              "      <th>class_no</th>\n",
              "      <th>class_nm</th>\n",
              "      <th>loan_count</th>\n",
              "      <th>bookImageURL</th>\n",
              "      <th>bookDtlUrl</th>\n",
              "    </tr>\n",
              "  </thead>\n",
              "  <tbody>\n",
              "    <tr>\n",
              "      <th>0</th>\n",
              "      <td>1</td>\n",
              "      <td>1</td>\n",
              "      <td>방구석 미술관 :가볍고 편하게 시작하는 유쾌한 교양 미술</td>\n",
              "      <td>조원재 지음</td>\n",
              "      <td>백도씨</td>\n",
              "      <td>2018</td>\n",
              "      <td>9788968331862</td>\n",
              "      <td>03600</td>\n",
              "      <td></td>\n",
              "      <td>650.4</td>\n",
              "      <td>예술 &gt; 회화, 도화 &gt; 회화, 도화</td>\n",
              "      <td>64</td>\n",
              "      <td>https://bookthumb-phinf.pstatic.net/cover/138/...</td>\n",
              "      <td>https://data4library.kr/bookV?seq=3858776</td>\n",
              "    </tr>\n",
              "    <tr>\n",
              "      <th>1</th>\n",
              "      <td>2</td>\n",
              "      <td>2</td>\n",
              "      <td>김이나의 작사법 :우리의 감정을 사로잡는 일상의 언어들</td>\n",
              "      <td>지은이: 김이나</td>\n",
              "      <td>문학동네</td>\n",
              "      <td>2015</td>\n",
              "      <td>9788954635608</td>\n",
              "      <td>03810</td>\n",
              "      <td></td>\n",
              "      <td>673.511</td>\n",
              "      <td>예술 &gt; 음악 &gt; 성악</td>\n",
              "      <td>35</td>\n",
              "      <td>http://image.aladin.co.kr/product/5482/88/cove...</td>\n",
              "      <td>https://data4library.kr/bookV?seq=2619164</td>\n",
              "    </tr>\n",
              "    <tr>\n",
              "      <th>2</th>\n",
              "      <td>3</td>\n",
              "      <td>3</td>\n",
              "      <td>예술하는 습관 :위대한 창조의 순간을 만든 구체적 하루의 기록</td>\n",
              "      <td>메이슨 커리 지음 ;이미정 옮김</td>\n",
              "      <td>웅진씽크빅</td>\n",
              "      <td>2020</td>\n",
              "      <td>9788901239156</td>\n",
              "      <td>03600</td>\n",
              "      <td></td>\n",
              "      <td>600.99</td>\n",
              "      <td>예술 &gt; 예술 &gt; 예술</td>\n",
              "      <td>29</td>\n",
              "      <td>https://image.aladin.co.kr/product/22507/56/co...</td>\n",
              "      <td>https://data4library.kr/bookV?seq=5576495</td>\n",
              "    </tr>\n",
              "    <tr>\n",
              "      <th>3</th>\n",
              "      <td>4</td>\n",
              "      <td>3</td>\n",
              "      <td>방구석 미술관</td>\n",
              "      <td>조원재 지음</td>\n",
              "      <td>백도씨</td>\n",
              "      <td>2020</td>\n",
              "      <td>9788968332845</td>\n",
              "      <td>03600</td>\n",
              "      <td>2</td>\n",
              "      <td>650.4</td>\n",
              "      <td>예술 &gt; 회화, 도화 &gt; 회화, 도화</td>\n",
              "      <td>29</td>\n",
              "      <td>https://image.aladin.co.kr/product/25566/91/co...</td>\n",
              "      <td>https://data4library.kr/bookV?seq=5799196</td>\n",
              "    </tr>\n",
              "    <tr>\n",
              "      <th>4</th>\n",
              "      <td>5</td>\n",
              "      <td>5</td>\n",
              "      <td>뉴턴의 아틀리에 :과학과 예술, 두 시선의 다양한 관계 맺기</td>\n",
              "      <td>지은이: 김상욱,유지원</td>\n",
              "      <td>민음사</td>\n",
              "      <td>2020</td>\n",
              "      <td>9788937491214</td>\n",
              "      <td>03600</td>\n",
              "      <td></td>\n",
              "      <td>600.04</td>\n",
              "      <td>예술 &gt; 예술 &gt; 예술</td>\n",
              "      <td>21</td>\n",
              "      <td>https://image.aladin.co.kr/product/23750/83/co...</td>\n",
              "      <td>https://data4library.kr/bookV?seq=5651714</td>\n",
              "    </tr>\n",
              "    <tr>\n",
              "      <th>5</th>\n",
              "      <td>6</td>\n",
              "      <td>6</td>\n",
              "      <td>겁내지 않고 그림 그리는 법</td>\n",
              "      <td>저자: 이연</td>\n",
              "      <td>미술문화</td>\n",
              "      <td>2021</td>\n",
              "      <td>9791185954707</td>\n",
              "      <td>03600</td>\n",
              "      <td></td>\n",
              "      <td>650.4</td>\n",
              "      <td>예술 &gt; 회화, 도화 &gt; 회화, 도화</td>\n",
              "      <td>19</td>\n",
              "      <td>https://image.aladin.co.kr/product/26722/32/co...</td>\n",
              "      <td>https://data4library.kr/bookV?seq=5945219</td>\n",
              "    </tr>\n",
              "    <tr>\n",
              "      <th>6</th>\n",
              "      <td>7</td>\n",
              "      <td>7</td>\n",
              "      <td>알폰스 무하, 새로운 스타일의 탄생 =현대 일러스트 미술의 선구자 무하의 삶과 예술...</td>\n",
              "      <td>장우진 지음</td>\n",
              "      <td>RHK(알에이치코리아)</td>\n",
              "      <td>2021</td>\n",
              "      <td>9788925589107</td>\n",
              "      <td>03600</td>\n",
              "      <td></td>\n",
              "      <td>658.099</td>\n",
              "      <td>예술 &gt; 회화, 도화 &gt; 그래픽디자인, 도안, 포스터</td>\n",
              "      <td>18</td>\n",
              "      <td>https://image.aladin.co.kr/product/26330/64/co...</td>\n",
              "      <td>https://data4library.kr/bookV?seq=5859131</td>\n",
              "    </tr>\n",
              "    <tr>\n",
              "      <th>7</th>\n",
              "      <td>8</td>\n",
              "      <td>7</td>\n",
              "      <td>우아하고 호쾌한 여자 축구 :김혼비 에세이</td>\n",
              "      <td>지은이: 김혼비</td>\n",
              "      <td>민음사</td>\n",
              "      <td>2018</td>\n",
              "      <td>9788937437571</td>\n",
              "      <td>03810</td>\n",
              "      <td></td>\n",
              "      <td>695.404</td>\n",
              "      <td>예술 &gt; 오락, 운동 &gt; 구기</td>\n",
              "      <td>18</td>\n",
              "      <td>http://image.aladin.co.kr/product/14970/22/cov...</td>\n",
              "      <td>https://data4library.kr/bookV?seq=3766967</td>\n",
              "    </tr>\n",
              "    <tr>\n",
              "      <th>8</th>\n",
              "      <td>9</td>\n",
              "      <td>9</td>\n",
              "      <td>다른 방식으로 보기</td>\n",
              "      <td>존 버거 [지음] ;최민 옮김</td>\n",
              "      <td>열화당</td>\n",
              "      <td>2012</td>\n",
              "      <td>9788930104272</td>\n",
              "      <td>03840</td>\n",
              "      <td></td>\n",
              "      <td>604</td>\n",
              "      <td>예술 &gt; 예술 &gt; 미술의 주제</td>\n",
              "      <td>17</td>\n",
              "      <td>http://image.aladin.co.kr/product/1875/91/cove...</td>\n",
              "      <td>https://data4library.kr/bookV?seq=1864587</td>\n",
              "    </tr>\n",
              "    <tr>\n",
              "      <th>9</th>\n",
              "      <td>10</td>\n",
              "      <td>9</td>\n",
              "      <td>90일 밤의 미술관 =하루 1작품 내 방에서 즐기는 유럽 미술관 투어 /90 nig...</td>\n",
              "      <td>이용규,이진희 지음</td>\n",
              "      <td>동양북스</td>\n",
              "      <td>2020</td>\n",
              "      <td>9791157686629</td>\n",
              "      <td>03600</td>\n",
              "      <td></td>\n",
              "      <td>606.92</td>\n",
              "      <td>예술 &gt; 예술 &gt; 미술 분야의 학회, 단체, 기관, 회의</td>\n",
              "      <td>17</td>\n",
              "      <td>https://image.aladin.co.kr/product/25468/53/co...</td>\n",
              "      <td>https://data4library.kr/bookV?seq=5791235</td>\n",
              "    </tr>\n",
              "  </tbody>\n",
              "</table>\n",
              "</div>\n",
              "      <button class=\"colab-df-convert\" onclick=\"convertToInteractive('df-ec07de4c-b249-4f4f-9eba-bf1a422a1e0e')\"\n",
              "              title=\"Convert this dataframe to an interactive table.\"\n",
              "              style=\"display:none;\">\n",
              "        \n",
              "  <svg xmlns=\"http://www.w3.org/2000/svg\" height=\"24px\"viewBox=\"0 0 24 24\"\n",
              "       width=\"24px\">\n",
              "    <path d=\"M0 0h24v24H0V0z\" fill=\"none\"/>\n",
              "    <path d=\"M18.56 5.44l.94 2.06.94-2.06 2.06-.94-2.06-.94-.94-2.06-.94 2.06-2.06.94zm-11 1L8.5 8.5l.94-2.06 2.06-.94-2.06-.94L8.5 2.5l-.94 2.06-2.06.94zm10 10l.94 2.06.94-2.06 2.06-.94-2.06-.94-.94-2.06-.94 2.06-2.06.94z\"/><path d=\"M17.41 7.96l-1.37-1.37c-.4-.4-.92-.59-1.43-.59-.52 0-1.04.2-1.43.59L10.3 9.45l-7.72 7.72c-.78.78-.78 2.05 0 2.83L4 21.41c.39.39.9.59 1.41.59.51 0 1.02-.2 1.41-.59l7.78-7.78 2.81-2.81c.8-.78.8-2.07 0-2.86zM5.41 20L4 18.59l7.72-7.72 1.47 1.35L5.41 20z\"/>\n",
              "  </svg>\n",
              "      </button>\n",
              "      \n",
              "  <style>\n",
              "    .colab-df-container {\n",
              "      display:flex;\n",
              "      flex-wrap:wrap;\n",
              "      gap: 12px;\n",
              "    }\n",
              "\n",
              "    .colab-df-convert {\n",
              "      background-color: #E8F0FE;\n",
              "      border: none;\n",
              "      border-radius: 50%;\n",
              "      cursor: pointer;\n",
              "      display: none;\n",
              "      fill: #1967D2;\n",
              "      height: 32px;\n",
              "      padding: 0 0 0 0;\n",
              "      width: 32px;\n",
              "    }\n",
              "\n",
              "    .colab-df-convert:hover {\n",
              "      background-color: #E2EBFA;\n",
              "      box-shadow: 0px 1px 2px rgba(60, 64, 67, 0.3), 0px 1px 3px 1px rgba(60, 64, 67, 0.15);\n",
              "      fill: #174EA6;\n",
              "    }\n",
              "\n",
              "    [theme=dark] .colab-df-convert {\n",
              "      background-color: #3B4455;\n",
              "      fill: #D2E3FC;\n",
              "    }\n",
              "\n",
              "    [theme=dark] .colab-df-convert:hover {\n",
              "      background-color: #434B5C;\n",
              "      box-shadow: 0px 1px 3px 1px rgba(0, 0, 0, 0.15);\n",
              "      filter: drop-shadow(0px 1px 2px rgba(0, 0, 0, 0.3));\n",
              "      fill: #FFFFFF;\n",
              "    }\n",
              "  </style>\n",
              "\n",
              "      <script>\n",
              "        const buttonEl =\n",
              "          document.querySelector('#df-ec07de4c-b249-4f4f-9eba-bf1a422a1e0e button.colab-df-convert');\n",
              "        buttonEl.style.display =\n",
              "          google.colab.kernel.accessAllowed ? 'block' : 'none';\n",
              "\n",
              "        async function convertToInteractive(key) {\n",
              "          const element = document.querySelector('#df-ec07de4c-b249-4f4f-9eba-bf1a422a1e0e');\n",
              "          const dataTable =\n",
              "            await google.colab.kernel.invokeFunction('convertToInteractive',\n",
              "                                                     [key], {});\n",
              "          if (!dataTable) return;\n",
              "\n",
              "          const docLinkHtml = 'Like what you see? Visit the ' +\n",
              "            '<a target=\"_blank\" href=https://colab.research.google.com/notebooks/data_table.ipynb>data table notebook</a>'\n",
              "            + ' to learn more about interactive tables.';\n",
              "          element.innerHTML = '';\n",
              "          dataTable['output_type'] = 'display_data';\n",
              "          await google.colab.output.renderOutput(dataTable, element);\n",
              "          const docLink = document.createElement('div');\n",
              "          docLink.innerHTML = docLinkHtml;\n",
              "          element.appendChild(docLink);\n",
              "        }\n",
              "      </script>\n",
              "    </div>\n",
              "  </div>\n",
              "  "
            ]
          },
          "metadata": {},
          "execution_count": 14
        }
      ]
    },
    {
      "cell_type": "code",
      "source": [
        "books_df.to_json('20s_best_book.json')"
      ],
      "metadata": {
        "id": "Zjp1Wk79MuTP"
      },
      "execution_count": 15,
      "outputs": []
    }
  ]
}